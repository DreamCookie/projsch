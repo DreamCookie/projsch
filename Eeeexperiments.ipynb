{
  "cells": [
    {
      "cell_type": "markdown",
      "metadata": {
        "id": "view-in-github",
        "colab_type": "text"
      },
      "source": [
        "<a href=\"https://colab.research.google.com/github/DreamCookie/projsch/blob/main/Eeeexperiments.ipynb\" target=\"_parent\"><img src=\"https://colab.research.google.com/assets/colab-badge.svg\" alt=\"Open In Colab\"/></a>"
      ]
    },
    {
      "cell_type": "code",
      "source": [
        "!apt-get install -y git"
      ],
      "metadata": {
        "colab": {
          "base_uri": "https://localhost:8080/"
        },
        "id": "_szjean_-Pl_",
        "outputId": "c3da95e0-df0e-44e8-bec6-3adfc310e0ff"
      },
      "execution_count": null,
      "outputs": [
        {
          "output_type": "stream",
          "name": "stdout",
          "text": [
            "Reading package lists... Done\n",
            "Building dependency tree       \n",
            "Reading state information... Done\n",
            "git is already the newest version (1:2.25.1-1ubuntu3.11).\n",
            "0 upgraded, 0 newly installed, 0 to remove and 15 not upgraded.\n"
          ]
        }
      ]
    },
    {
      "cell_type": "code",
      "execution_count": null,
      "metadata": {
        "id": "sZnTQmvxW2Jb"
      },
      "outputs": [],
      "source": [
        "!pip install -r requirements.txt"
      ]
    },
    {
      "cell_type": "code",
      "source": [
        "#@title\n",
        "# git init: Инициализирует новый Git-репозиторий в текущем каталоге. Он создает скрытую папку .git для хранения информации, связанной с Git.\n",
        "\n",
        "# git clone [URL репозитория]: Копирует существующий репозиторий с GitHub на вашу локальную машину. URL репозитория можно найти на странице GitHub репозитория, который вы хотите клонировать.\n",
        "\n",
        "# git add [file]: Добавляет файл или изменения в область хранения, подготавливая их к следующей фиксации. Вы можете указать один файл, несколько файлов или использовать подстановочный знак (*) для добавления всех изменений.\n",
        "\n",
        "# git commit -m \"[сообщение фиксации]\": Создает новый коммит с изменениями, которые вы добавили в область хранения. Сообщение коммита должно представлять собой краткое описание внесенных изменений.\n",
        "\n",
        "# git push: Загружает ваши локальные коммиты в удаленный репозиторий на GitHub. Обычно это используется для того, чтобы поделиться своими изменениями с другими или для поддержания удаленного репозитория в актуальном состоянии.\n",
        "\n",
        "# git pull: Обновляет ваш локальный репозиторий последними изменениями из удаленного репозитория. Это полезно, когда вы хотите синхронизировать свою локальную копию с изменениями, внесенными другими.\n",
        "\n",
        "# git branch: Выводит список всех ветвей в  репозитории. Ветка - это как отдельная линия разработки, позволяющая одновременно работать над разными функциями или версиями.\n",
        "\n",
        "# git checkout [имя ветки]: Переключает на другую ветку в  хранилище. Вы можете создать новую ветку, используя git checkout -b [имя новой ветки].\n",
        "\n",
        "# git merge [имя ветки]: Объединяет изменения из указанной ветки в текущую ветку. Обычно используется для интеграции изменений, сделанных в отдельных ветках.\n",
        "\n",
        "# git pull origin [имя ветки]: Получает последние изменения из удаленного репозитория и объединяет их в указанную ветку. Это комбинация git pull и git merge."
      ],
      "metadata": {
        "cellView": "form",
        "id": "Po0H2oaz-u3E"
      },
      "execution_count": null,
      "outputs": []
    },
    {
      "cell_type": "markdown",
      "source": [
        "**ВАРИАНТ 1, КРАСИВЕЕ, НО НЕ РАБОТАЕТ КАК НАДО**"
      ],
      "metadata": {
        "id": "HknNFCaF52Bl"
      }
    },
    {
      "cell_type": "code",
      "execution_count": null,
      "metadata": {
        "id": "N0tjJJ-vWDn3"
      },
      "outputs": [],
      "source": [
        "import pandas as pd\n",
        "import numpy as  np\n",
        "from yandex_geocoder import Client\n",
        "from geopy.distance import geodesic\n",
        "from sklearn.neighbors import KNeighborsClassifier\n",
        "from sklearn.preprocessing import MinMaxScaler\n",
        "import geopy.distance\n",
        "import ast\n",
        "from sklearn.model_selection import GridSearchCV"
      ]
    },
    {
      "cell_type": "code",
      "execution_count": null,
      "metadata": {
        "id": "zEeLVsPXzhhC",
        "outputId": "3d80f6c5-4a99-41f2-c13b-7c49ce3995be",
        "colab": {
          "base_uri": "https://localhost:8080/",
          "height": 423
        }
      },
      "outputs": [
        {
          "output_type": "execute_result",
          "data": {
            "text/plain": [
              "                                          LegalAddress  \\\n",
              "0          115598, ГОРОД МОСКВА, УЛИЦА ЛИПЕЦКАЯ, 15, 2   \n",
              "1    121615, город Москва, Рублевское шоссе, дом 24...   \n",
              "2       123181, ГОРОД МОСКВА, УЛИЦА ИСАКОВСКОГО, 29, 1   \n",
              "3     121354, город Москва, Можайское ш., д.38, корп.7   \n",
              "4          117279, ГОРОД МОСКВА, УЛИЦА ВВЕДЕНСКОГО, 28   \n",
              "..                                                 ...   \n",
              "492         111538, ГОРОД МОСКВА, УЛИЦА КОСИНСКАЯ, 24А   \n",
              "493     105203, г. Москва, улица Первомайская, дом 111   \n",
              "494        107207, ГОРОД МОСКВА, ШОССЕ ЩЁЛКОВСКОЕ, 77А   \n",
              "495  105005, ГОРОД МОСКВА, ТУПИК КОНДРАШЕВСКИЙ, ДОМ 3А   \n",
              "496         111024, г. Москва, ул. Авиамоторная, д. 42   \n",
              "\n",
              "                        Coordinates  \n",
              "0    (('37.688782'), ('55.581062'))  \n",
              "1    (('37.428935'), ('55.745129'))  \n",
              "2     (('37.41944'), ('55.806803'))  \n",
              "3    (('37.411535'), ('55.721021'))  \n",
              "4    (('37.532331'), ('55.636361'))  \n",
              "..                              ...  \n",
              "492  (('37.829557'), ('55.718456'))  \n",
              "493  (('37.814726'), ('55.793915'))  \n",
              "494  (('37.804036'), ('55.813319'))  \n",
              "495  (('37.688018'), ('55.768213'))  \n",
              "496  (('37.720331'), ('55.740669'))  \n",
              "\n",
              "[497 rows x 2 columns]"
            ],
            "text/html": [
              "\n",
              "  <div id=\"df-aad21db7-0dba-4189-807d-0ec37331fae6\">\n",
              "    <div class=\"colab-df-container\">\n",
              "      <div>\n",
              "<style scoped>\n",
              "    .dataframe tbody tr th:only-of-type {\n",
              "        vertical-align: middle;\n",
              "    }\n",
              "\n",
              "    .dataframe tbody tr th {\n",
              "        vertical-align: top;\n",
              "    }\n",
              "\n",
              "    .dataframe thead th {\n",
              "        text-align: right;\n",
              "    }\n",
              "</style>\n",
              "<table border=\"1\" class=\"dataframe\">\n",
              "  <thead>\n",
              "    <tr style=\"text-align: right;\">\n",
              "      <th></th>\n",
              "      <th>LegalAddress</th>\n",
              "      <th>Coordinates</th>\n",
              "    </tr>\n",
              "  </thead>\n",
              "  <tbody>\n",
              "    <tr>\n",
              "      <th>0</th>\n",
              "      <td>115598, ГОРОД МОСКВА, УЛИЦА ЛИПЕЦКАЯ, 15, 2</td>\n",
              "      <td>(('37.688782'), ('55.581062'))</td>\n",
              "    </tr>\n",
              "    <tr>\n",
              "      <th>1</th>\n",
              "      <td>121615, город Москва, Рублевское шоссе, дом 24...</td>\n",
              "      <td>(('37.428935'), ('55.745129'))</td>\n",
              "    </tr>\n",
              "    <tr>\n",
              "      <th>2</th>\n",
              "      <td>123181, ГОРОД МОСКВА, УЛИЦА ИСАКОВСКОГО, 29, 1</td>\n",
              "      <td>(('37.41944'), ('55.806803'))</td>\n",
              "    </tr>\n",
              "    <tr>\n",
              "      <th>3</th>\n",
              "      <td>121354, город Москва, Можайское ш., д.38, корп.7</td>\n",
              "      <td>(('37.411535'), ('55.721021'))</td>\n",
              "    </tr>\n",
              "    <tr>\n",
              "      <th>4</th>\n",
              "      <td>117279, ГОРОД МОСКВА, УЛИЦА ВВЕДЕНСКОГО, 28</td>\n",
              "      <td>(('37.532331'), ('55.636361'))</td>\n",
              "    </tr>\n",
              "    <tr>\n",
              "      <th>...</th>\n",
              "      <td>...</td>\n",
              "      <td>...</td>\n",
              "    </tr>\n",
              "    <tr>\n",
              "      <th>492</th>\n",
              "      <td>111538, ГОРОД МОСКВА, УЛИЦА КОСИНСКАЯ, 24А</td>\n",
              "      <td>(('37.829557'), ('55.718456'))</td>\n",
              "    </tr>\n",
              "    <tr>\n",
              "      <th>493</th>\n",
              "      <td>105203, г. Москва, улица Первомайская, дом 111</td>\n",
              "      <td>(('37.814726'), ('55.793915'))</td>\n",
              "    </tr>\n",
              "    <tr>\n",
              "      <th>494</th>\n",
              "      <td>107207, ГОРОД МОСКВА, ШОССЕ ЩЁЛКОВСКОЕ, 77А</td>\n",
              "      <td>(('37.804036'), ('55.813319'))</td>\n",
              "    </tr>\n",
              "    <tr>\n",
              "      <th>495</th>\n",
              "      <td>105005, ГОРОД МОСКВА, ТУПИК КОНДРАШЕВСКИЙ, ДОМ 3А</td>\n",
              "      <td>(('37.688018'), ('55.768213'))</td>\n",
              "    </tr>\n",
              "    <tr>\n",
              "      <th>496</th>\n",
              "      <td>111024, г. Москва, ул. Авиамоторная, д. 42</td>\n",
              "      <td>(('37.720331'), ('55.740669'))</td>\n",
              "    </tr>\n",
              "  </tbody>\n",
              "</table>\n",
              "<p>497 rows × 2 columns</p>\n",
              "</div>\n",
              "      <button class=\"colab-df-convert\" onclick=\"convertToInteractive('df-aad21db7-0dba-4189-807d-0ec37331fae6')\"\n",
              "              title=\"Convert this dataframe to an interactive table.\"\n",
              "              style=\"display:none;\">\n",
              "        \n",
              "  <svg xmlns=\"http://www.w3.org/2000/svg\" height=\"24px\"viewBox=\"0 0 24 24\"\n",
              "       width=\"24px\">\n",
              "    <path d=\"M0 0h24v24H0V0z\" fill=\"none\"/>\n",
              "    <path d=\"M18.56 5.44l.94 2.06.94-2.06 2.06-.94-2.06-.94-.94-2.06-.94 2.06-2.06.94zm-11 1L8.5 8.5l.94-2.06 2.06-.94-2.06-.94L8.5 2.5l-.94 2.06-2.06.94zm10 10l.94 2.06.94-2.06 2.06-.94-2.06-.94-.94-2.06-.94 2.06-2.06.94z\"/><path d=\"M17.41 7.96l-1.37-1.37c-.4-.4-.92-.59-1.43-.59-.52 0-1.04.2-1.43.59L10.3 9.45l-7.72 7.72c-.78.78-.78 2.05 0 2.83L4 21.41c.39.39.9.59 1.41.59.51 0 1.02-.2 1.41-.59l7.78-7.78 2.81-2.81c.8-.78.8-2.07 0-2.86zM5.41 20L4 18.59l7.72-7.72 1.47 1.35L5.41 20z\"/>\n",
              "  </svg>\n",
              "      </button>\n",
              "      \n",
              "  <style>\n",
              "    .colab-df-container {\n",
              "      display:flex;\n",
              "      flex-wrap:wrap;\n",
              "      gap: 12px;\n",
              "    }\n",
              "\n",
              "    .colab-df-convert {\n",
              "      background-color: #E8F0FE;\n",
              "      border: none;\n",
              "      border-radius: 50%;\n",
              "      cursor: pointer;\n",
              "      display: none;\n",
              "      fill: #1967D2;\n",
              "      height: 32px;\n",
              "      padding: 0 0 0 0;\n",
              "      width: 32px;\n",
              "    }\n",
              "\n",
              "    .colab-df-convert:hover {\n",
              "      background-color: #E2EBFA;\n",
              "      box-shadow: 0px 1px 2px rgba(60, 64, 67, 0.3), 0px 1px 3px 1px rgba(60, 64, 67, 0.15);\n",
              "      fill: #174EA6;\n",
              "    }\n",
              "\n",
              "    [theme=dark] .colab-df-convert {\n",
              "      background-color: #3B4455;\n",
              "      fill: #D2E3FC;\n",
              "    }\n",
              "\n",
              "    [theme=dark] .colab-df-convert:hover {\n",
              "      background-color: #434B5C;\n",
              "      box-shadow: 0px 1px 3px 1px rgba(0, 0, 0, 0.15);\n",
              "      filter: drop-shadow(0px 1px 2px rgba(0, 0, 0, 0.3));\n",
              "      fill: #FFFFFF;\n",
              "    }\n",
              "  </style>\n",
              "\n",
              "      <script>\n",
              "        const buttonEl =\n",
              "          document.querySelector('#df-aad21db7-0dba-4189-807d-0ec37331fae6 button.colab-df-convert');\n",
              "        buttonEl.style.display =\n",
              "          google.colab.kernel.accessAllowed ? 'block' : 'none';\n",
              "\n",
              "        async function convertToInteractive(key) {\n",
              "          const element = document.querySelector('#df-aad21db7-0dba-4189-807d-0ec37331fae6');\n",
              "          const dataTable =\n",
              "            await google.colab.kernel.invokeFunction('convertToInteractive',\n",
              "                                                     [key], {});\n",
              "          if (!dataTable) return;\n",
              "\n",
              "          const docLinkHtml = 'Like what you see? Visit the ' +\n",
              "            '<a target=\"_blank\" href=https://colab.research.google.com/notebooks/data_table.ipynb>data table notebook</a>'\n",
              "            + ' to learn more about interactive tables.';\n",
              "          element.innerHTML = '';\n",
              "          dataTable['output_type'] = 'display_data';\n",
              "          await google.colab.output.renderOutput(dataTable, element);\n",
              "          const docLink = document.createElement('div');\n",
              "          docLink.innerHTML = docLinkHtml;\n",
              "          element.appendChild(docLink);\n",
              "        }\n",
              "      </script>\n",
              "    </div>\n",
              "  </div>\n",
              "  "
            ]
          },
          "metadata": {},
          "execution_count": 45
        }
      ],
      "source": [
        "df = pd.read_csv('coordinates.csv')\n",
        "df"
      ]
    },
    {
      "cell_type": "code",
      "source": [
        "df.info()"
      ],
      "metadata": {
        "colab": {
          "base_uri": "https://localhost:8080/"
        },
        "id": "b6OkR5Eh0cI3",
        "outputId": "5d77e24f-9f27-4636-a65b-7b8ef4057b5d"
      },
      "execution_count": null,
      "outputs": [
        {
          "output_type": "stream",
          "name": "stdout",
          "text": [
            "<class 'pandas.core.frame.DataFrame'>\n",
            "RangeIndex: 497 entries, 0 to 496\n",
            "Data columns (total 2 columns):\n",
            " #   Column        Non-Null Count  Dtype \n",
            "---  ------        --------------  ----- \n",
            " 0   LegalAddress  497 non-null    object\n",
            " 1   Coordinates   497 non-null    object\n",
            "dtypes: object(2)\n",
            "memory usage: 7.9+ KB\n"
          ]
        }
      ]
    },
    {
      "cell_type": "code",
      "source": [
        "# Преобразование столбца \"Coordinates\" из строкового формата в кортеж плавающих значений\n",
        "df['Coordinates'] = df['Coordinates'].apply(lambda x: tuple(map(float, ast.literal_eval(x))))"
      ],
      "metadata": {
        "id": "10PspPp_zeA6"
      },
      "execution_count": null,
      "outputs": []
    },
    {
      "cell_type": "code",
      "source": [
        "# массив координат и список адресов\n",
        "array = df['Coordinates'].tolist()\n",
        "addresses = df['LegalAddress'].tolist()"
      ],
      "metadata": {
        "id": "VK8y8K9u1h2e"
      },
      "execution_count": null,
      "outputs": []
    },
    {
      "cell_type": "code",
      "execution_count": null,
      "metadata": {
        "id": "Ucyp6TJOzhhD",
        "outputId": "8535b35f-84cd-4b68-e493-45acfdb1ad51",
        "colab": {
          "base_uri": "https://localhost:8080/"
        }
      },
      "outputs": [
        {
          "output_type": "stream",
          "name": "stdout",
          "text": [
            "Введите свой адрес в формате улица дом:115598, ГОРОД МОСКВА, УЛИЦА ЛИПЕЦКАЯ, 15, 1\n",
            "Адрес: 115598, ГОРОД МОСКВА, УЛИЦА ЛИПЕЦКАЯ, 15, 1\n",
            "Координаты (Decimal('37.687237'), Decimal('55.581581'))\n"
          ]
        }
      ],
      "source": [
        "# координаты пользователя\n",
        "\n",
        "# ключ к апи\n",
        "client = Client(\"0f648b4c-4790-4e45-9195-b016a7729abf\")\n",
        "\n",
        "a = input('Введите свой адрес в формате улица дом:')\n",
        "print('Адрес:', a)\n",
        "# координаты пользователя\n",
        "coordinates = client.coordinates(a)\n",
        "print('Координаты', coordinates)\n"
      ]
    },
    {
      "cell_type": "code",
      "execution_count": null,
      "metadata": {
        "id": "_W-lRQK2zhhE"
      },
      "outputs": [],
      "source": [
        "# # Перевод столбца Coordinates в массив значений\n",
        "# cord = pd.read_csv('coordinates.csv')\n",
        "# coord_list = [ast.literal_eval(coord) for coord in cord['Coordinates']]\n",
        "\n",
        "# Distance до каждой \"локации\"\n",
        "distances = [geodesic(coordinates, coord).km for coord in array]"
      ]
    },
    {
      "cell_type": "code",
      "execution_count": null,
      "metadata": {
        "id": "QBic8wn83qFA"
      },
      "outputs": [],
      "source": [
        "# Prepare data for KNN\n",
        "X = np.array(distances).reshape(-1, 1)\n",
        "y = np.zeros(len(distances))\n",
        "\n",
        "# Normalize parameters\n",
        "scaler = MinMaxScaler()\n",
        "scaler.fit(X)\n",
        "X_scaled = scaler.transform(X)"
      ]
    },
    {
      "cell_type": "code",
      "execution_count": null,
      "metadata": {
        "id": "0BFv5qED3rLg"
      },
      "outputs": [],
      "source": [
        "# Set up the parameter grid\n",
        "param_grid = {'n_neighbors': np.arange(1, 50), 'weights': ['uniform', 'distance']}"
      ]
    },
    {
      "cell_type": "code",
      "execution_count": null,
      "metadata": {
        "id": "sEP57OP53vvZ",
        "colab": {
          "base_uri": "https://localhost:8080/",
          "height": 75
        },
        "outputId": "452eaffb-29cd-4891-d183-7fb6da5a7471"
      },
      "outputs": [
        {
          "output_type": "execute_result",
          "data": {
            "text/plain": [
              "KNeighborsClassifier(n_neighbors=1)"
            ],
            "text/html": [
              "<style>#sk-container-id-3 {color: black;background-color: white;}#sk-container-id-3 pre{padding: 0;}#sk-container-id-3 div.sk-toggleable {background-color: white;}#sk-container-id-3 label.sk-toggleable__label {cursor: pointer;display: block;width: 100%;margin-bottom: 0;padding: 0.3em;box-sizing: border-box;text-align: center;}#sk-container-id-3 label.sk-toggleable__label-arrow:before {content: \"▸\";float: left;margin-right: 0.25em;color: #696969;}#sk-container-id-3 label.sk-toggleable__label-arrow:hover:before {color: black;}#sk-container-id-3 div.sk-estimator:hover label.sk-toggleable__label-arrow:before {color: black;}#sk-container-id-3 div.sk-toggleable__content {max-height: 0;max-width: 0;overflow: hidden;text-align: left;background-color: #f0f8ff;}#sk-container-id-3 div.sk-toggleable__content pre {margin: 0.2em;color: black;border-radius: 0.25em;background-color: #f0f8ff;}#sk-container-id-3 input.sk-toggleable__control:checked~div.sk-toggleable__content {max-height: 200px;max-width: 100%;overflow: auto;}#sk-container-id-3 input.sk-toggleable__control:checked~label.sk-toggleable__label-arrow:before {content: \"▾\";}#sk-container-id-3 div.sk-estimator input.sk-toggleable__control:checked~label.sk-toggleable__label {background-color: #d4ebff;}#sk-container-id-3 div.sk-label input.sk-toggleable__control:checked~label.sk-toggleable__label {background-color: #d4ebff;}#sk-container-id-3 input.sk-hidden--visually {border: 0;clip: rect(1px 1px 1px 1px);clip: rect(1px, 1px, 1px, 1px);height: 1px;margin: -1px;overflow: hidden;padding: 0;position: absolute;width: 1px;}#sk-container-id-3 div.sk-estimator {font-family: monospace;background-color: #f0f8ff;border: 1px dotted black;border-radius: 0.25em;box-sizing: border-box;margin-bottom: 0.5em;}#sk-container-id-3 div.sk-estimator:hover {background-color: #d4ebff;}#sk-container-id-3 div.sk-parallel-item::after {content: \"\";width: 100%;border-bottom: 1px solid gray;flex-grow: 1;}#sk-container-id-3 div.sk-label:hover label.sk-toggleable__label {background-color: #d4ebff;}#sk-container-id-3 div.sk-serial::before {content: \"\";position: absolute;border-left: 1px solid gray;box-sizing: border-box;top: 0;bottom: 0;left: 50%;z-index: 0;}#sk-container-id-3 div.sk-serial {display: flex;flex-direction: column;align-items: center;background-color: white;padding-right: 0.2em;padding-left: 0.2em;position: relative;}#sk-container-id-3 div.sk-item {position: relative;z-index: 1;}#sk-container-id-3 div.sk-parallel {display: flex;align-items: stretch;justify-content: center;background-color: white;position: relative;}#sk-container-id-3 div.sk-item::before, #sk-container-id-3 div.sk-parallel-item::before {content: \"\";position: absolute;border-left: 1px solid gray;box-sizing: border-box;top: 0;bottom: 0;left: 50%;z-index: -1;}#sk-container-id-3 div.sk-parallel-item {display: flex;flex-direction: column;z-index: 1;position: relative;background-color: white;}#sk-container-id-3 div.sk-parallel-item:first-child::after {align-self: flex-end;width: 50%;}#sk-container-id-3 div.sk-parallel-item:last-child::after {align-self: flex-start;width: 50%;}#sk-container-id-3 div.sk-parallel-item:only-child::after {width: 0;}#sk-container-id-3 div.sk-dashed-wrapped {border: 1px dashed gray;margin: 0 0.4em 0.5em 0.4em;box-sizing: border-box;padding-bottom: 0.4em;background-color: white;}#sk-container-id-3 div.sk-label label {font-family: monospace;font-weight: bold;display: inline-block;line-height: 1.2em;}#sk-container-id-3 div.sk-label-container {text-align: center;}#sk-container-id-3 div.sk-container {/* jupyter's `normalize.less` sets `[hidden] { display: none; }` but bootstrap.min.css set `[hidden] { display: none !important; }` so we also need the `!important` here to be able to override the default hidden behavior on the sphinx rendered scikit-learn.org. See: https://github.com/scikit-learn/scikit-learn/issues/21755 */display: inline-block !important;position: relative;}#sk-container-id-3 div.sk-text-repr-fallback {display: none;}</style><div id=\"sk-container-id-3\" class=\"sk-top-container\"><div class=\"sk-text-repr-fallback\"><pre>KNeighborsClassifier(n_neighbors=1)</pre><b>In a Jupyter environment, please rerun this cell to show the HTML representation or trust the notebook. <br />On GitHub, the HTML representation is unable to render, please try loading this page with nbviewer.org.</b></div><div class=\"sk-container\" hidden><div class=\"sk-item\"><div class=\"sk-estimator sk-toggleable\"><input class=\"sk-toggleable__control sk-hidden--visually\" id=\"sk-estimator-id-3\" type=\"checkbox\" checked><label for=\"sk-estimator-id-3\" class=\"sk-toggleable__label sk-toggleable__label-arrow\">KNeighborsClassifier</label><div class=\"sk-toggleable__content\"><pre>KNeighborsClassifier(n_neighbors=1)</pre></div></div></div></div></div>"
            ]
          },
          "metadata": {},
          "execution_count": 65
        }
      ],
      "source": [
        "# Instantiate the grid search\n",
        "grid_search = GridSearchCV(KNeighborsClassifier(), param_grid)\n",
        "\n",
        "# Fit the grid search\n",
        "grid_search.fit(X_scaled, y)\n",
        "\n",
        "# KNN Model\n",
        "knn = KNeighborsClassifier(n_neighbors=grid_search.best_params_['n_neighbors'],\n",
        "                           weights=grid_search.best_params_['weights'])\n",
        "knn.fit(X_scaled, y)"
      ]
    },
    {
      "cell_type": "code",
      "execution_count": null,
      "metadata": {
        "id": "QUIU1bcI3yrK",
        "colab": {
          "base_uri": "https://localhost:8080/"
        },
        "outputId": "89e92264-782d-4913-cafd-4901ae300ac2"
      },
      "outputs": [
        {
          "output_type": "stream",
          "name": "stdout",
          "text": [
            "Предсказанные адреса: []\n"
          ]
        }
      ],
      "source": [
        "# Predict\n",
        "prediction = knn.predict(X_scaled)\n",
        "\n",
        "# Map prediction to addresses\n",
        "predicted_addresses = [address for address, pred in zip(addresses, prediction) if pred == 1]\n",
        "print('Предсказанные адреса:', predicted_addresses)"
      ]
    },
    {
      "cell_type": "markdown",
      "metadata": {
        "id": "Ns2cvsrm31hg"
      },
      "source": [
        "________________________________________________________________________________"
      ]
    },
    {
      "cell_type": "markdown",
      "source": [
        "**ВАРИАНТ 2, БОЛЕЕ СТАРЫЙ, НО С ВИДУ РАБОТАЕТ**"
      ],
      "metadata": {
        "id": "pFd5-dJp6iHr"
      }
    },
    {
      "cell_type": "code",
      "source": [
        "# Initialize the geocoder client\n",
        "client = Client(\"0f648b4c-4790-4e45-9195-b016a7729abf\")\n",
        "\n",
        "# User's coordinates\n",
        "a = input('Введите свой адрес в формате улица дом:')\n",
        "print('Адрес:', a)\n",
        "coordinates = client.coordinates(a)\n",
        "print('Координаты', coordinates)\n",
        "\n",
        "# Read and process coordinates data\n",
        "cord = pd.read_csv('coordinates.csv')\n",
        "coord_list = [ast.literal_eval(coord) for coord in cord['Coordinates']]\n",
        "\n",
        "# Calculate distances\n",
        "distances = [geodesic(coordinates, coord).km for coord in coord_list]\n",
        "\n",
        "# Now distances[i] corresponds to the distance to the i-th coordinate\n",
        "\n",
        "# Example: print distance to the 3rd coordinate\n",
        "print(distances[3])\n",
        "\n",
        "# Schools' attributes (replace these with your actual data)\n",
        "workload = [90 for _ in range(497)]  # workload percentages for each school\n",
        "feedback = [5 for _ in range(497)]   # feedback scores for each school\n",
        "\n",
        "# Importance of attributes\n",
        "weights = [1, 0.3, 0.5]\n",
        "\n",
        "# Parameters for schools\n",
        "X = np.array([distances, workload, [5 - f for f in feedback]]).T\n",
        "y = list(range(len(distances)))\n",
        "\n",
        "# Normalize parameters\n",
        "scaler = MinMaxScaler()\n",
        "scaler.fit(X)\n",
        "X_scaled = scaler.transform(X)\n",
        "\n",
        "X_w = X_scaled * np.array(weights)\n",
        "\n",
        "# Train classifier\n",
        "neigh = KNeighborsClassifier(n_neighbors=1)\n",
        "neigh.fit(X_w, y)\n",
        "\n",
        "print('Лучший результат', neigh.predict_proba([[0,0,0]]))"
      ],
      "metadata": {
        "colab": {
          "base_uri": "https://localhost:8080/"
        },
        "id": "vMK7QvXF6mgf",
        "outputId": "1d9b2e02-eb76-4b55-d667-e90134d01bb2"
      },
      "execution_count": null,
      "outputs": [
        {
          "output_type": "stream",
          "name": "stdout",
          "text": [
            "Введите свой адрес в формате улица дом:115598, ГОРОД МОСКВА, УЛИЦА ЛИПЕЦКАЯ, 15, 1\n",
            "Адрес: 115598, ГОРОД МОСКВА, УЛИЦА ЛИПЕЦКАЯ, 15, 1\n",
            "Координаты (Decimal('37.687237'), Decimal('55.581581'))\n",
            "32.987340709963604\n",
            "Лучший результат [[1. 0. 0. 0. 0. 0. 0. 0. 0. 0. 0. 0. 0. 0. 0. 0. 0. 0. 0. 0. 0. 0. 0. 0.\n",
            "  0. 0. 0. 0. 0. 0. 0. 0. 0. 0. 0. 0. 0. 0. 0. 0. 0. 0. 0. 0. 0. 0. 0. 0.\n",
            "  0. 0. 0. 0. 0. 0. 0. 0. 0. 0. 0. 0. 0. 0. 0. 0. 0. 0. 0. 0. 0. 0. 0. 0.\n",
            "  0. 0. 0. 0. 0. 0. 0. 0. 0. 0. 0. 0. 0. 0. 0. 0. 0. 0. 0. 0. 0. 0. 0. 0.\n",
            "  0. 0. 0. 0. 0. 0. 0. 0. 0. 0. 0. 0. 0. 0. 0. 0. 0. 0. 0. 0. 0. 0. 0. 0.\n",
            "  0. 0. 0. 0. 0. 0. 0. 0. 0. 0. 0. 0. 0. 0. 0. 0. 0. 0. 0. 0. 0. 0. 0. 0.\n",
            "  0. 0. 0. 0. 0. 0. 0. 0. 0. 0. 0. 0. 0. 0. 0. 0. 0. 0. 0. 0. 0. 0. 0. 0.\n",
            "  0. 0. 0. 0. 0. 0. 0. 0. 0. 0. 0. 0. 0. 0. 0. 0. 0. 0. 0. 0. 0. 0. 0. 0.\n",
            "  0. 0. 0. 0. 0. 0. 0. 0. 0. 0. 0. 0. 0. 0. 0. 0. 0. 0. 0. 0. 0. 0. 0. 0.\n",
            "  0. 0. 0. 0. 0. 0. 0. 0. 0. 0. 0. 0. 0. 0. 0. 0. 0. 0. 0. 0. 0. 0. 0. 0.\n",
            "  0. 0. 0. 0. 0. 0. 0. 0. 0. 0. 0. 0. 0. 0. 0. 0. 0. 0. 0. 0. 0. 0. 0. 0.\n",
            "  0. 0. 0. 0. 0. 0. 0. 0. 0. 0. 0. 0. 0. 0. 0. 0. 0. 0. 0. 0. 0. 0. 0. 0.\n",
            "  0. 0. 0. 0. 0. 0. 0. 0. 0. 0. 0. 0. 0. 0. 0. 0. 0. 0. 0. 0. 0. 0. 0. 0.\n",
            "  0. 0. 0. 0. 0. 0. 0. 0. 0. 0. 0. 0. 0. 0. 0. 0. 0. 0. 0. 0. 0. 0. 0. 0.\n",
            "  0. 0. 0. 0. 0. 0. 0. 0. 0. 0. 0. 0. 0. 0. 0. 0. 0. 0. 0. 0. 0. 0. 0. 0.\n",
            "  0. 0. 0. 0. 0. 0. 0. 0. 0. 0. 0. 0. 0. 0. 0. 0. 0. 0. 0. 0. 0. 0. 0. 0.\n",
            "  0. 0. 0. 0. 0. 0. 0. 0. 0. 0. 0. 0. 0. 0. 0. 0. 0. 0. 0. 0. 0. 0. 0. 0.\n",
            "  0. 0. 0. 0. 0. 0. 0. 0. 0. 0. 0. 0. 0. 0. 0. 0. 0. 0. 0. 0. 0. 0. 0. 0.\n",
            "  0. 0. 0. 0. 0. 0. 0. 0. 0. 0. 0. 0. 0. 0. 0. 0. 0. 0. 0. 0. 0. 0. 0. 0.\n",
            "  0. 0. 0. 0. 0. 0. 0. 0. 0. 0. 0. 0. 0. 0. 0. 0. 0. 0. 0. 0. 0. 0. 0. 0.\n",
            "  0. 0. 0. 0. 0. 0. 0. 0. 0. 0. 0. 0. 0. 0. 0. 0. 0.]]\n"
          ]
        }
      ]
    },
    {
      "cell_type": "code",
      "source": [
        "pred_index = neigh.predict([[0,0,0]])"
      ],
      "metadata": {
        "id": "1XqGKBsL9fQ8"
      },
      "execution_count": null,
      "outputs": []
    },
    {
      "cell_type": "code",
      "source": [
        "predicted_address = cord['LegalAddress'][pred_index[0]]\n",
        "print('Predicted Address:', predicted_address)"
      ],
      "metadata": {
        "colab": {
          "base_uri": "https://localhost:8080/"
        },
        "id": "a1GZMkVA9grA",
        "outputId": "c6542fca-4e9a-4f73-d6a6-bef144f33f8d"
      },
      "execution_count": null,
      "outputs": [
        {
          "output_type": "stream",
          "name": "stdout",
          "text": [
            "Predicted Address: 115598, ГОРОД МОСКВА, УЛИЦА ЛИПЕЦКАЯ, 15, 2\n"
          ]
        }
      ]
    },
    {
      "cell_type": "markdown",
      "source": [
        "________________________________________________________________________________"
      ],
      "metadata": {
        "id": "OIMY_bmw7U7Z"
      }
    },
    {
      "cell_type": "code",
      "execution_count": null,
      "metadata": {
        "cellView": "form",
        "id": "oUwMBZ7vzhhE"
      },
      "outputs": [],
      "source": [
        "#@title\n",
        "#  расчет расстояний\n",
        "\n",
        "# Попытка создать цикл, который создаёт пременные coord[i] и dist[i].\n",
        "# В переменные координат помещаю значения из ранее созданного массива\n",
        "# В переменные дистанции помещаю расстояние между coordinates(координаты пользователя) и coord[i]\n",
        "for i in range (0, 497):\n",
        "    locals()[f\"coord{i}\"] = array[i]\n",
        "    #locals()[f\"dist{i}\"] = geodesic(coordinates, coord[i]).km - Хочу, чтобы так работало, но оно совсем не работает\n",
        "print(coord3) # Проверка на то, какое значение вообще присваивается переменной\n",
        "\n",
        "\n",
        "coordinates1 =  (('37.688782'), ('55.581062')) # Ради проверки присваиваю вручную значение, аналогичное тем, сто в таблице\n",
        "coordinates3 = coord3 # И для сравнения значение полученное из цикла\n",
        "\n",
        "dist_1=geopy.distance.geodesic(coordinates, coordinates1).km\n",
        "print(dist_1) # Данный пример работает\n",
        "\n",
        "dist_3=geopy.distance.geodesic(coordinates, coordinates3).km\n",
        "print(dist_3) # А данный нет"
      ]
    },
    {
      "cell_type": "markdown",
      "metadata": {
        "id": "ezZkqC8yzhhF"
      },
      "source": [
        "### Далее идёт ваш код почти без изменений\n",
        "#### Можете поиграться, потому что тут ничего не берётся из данных выше, занялась больше оформлением\n",
        "##### Покоя не даёт мне алгоритм поиска соседей. Что-то как будто бы совсем не то..."
      ]
    },
    {
      "cell_type": "code",
      "execution_count": null,
      "metadata": {
        "id": "2njzbUbKzhhH",
        "outputId": "b65ab50a-4dc1-408a-d1f7-c56852242cff"
      },
      "outputs": [
        {
          "name": "stdout",
          "output_type": "stream",
          "text": [
            "Расстояния: 2.726562235811725\n",
            "1.7593703232287021\n",
            "0.29255925403145655\n",
            "Заполненность: 77.82963743827771 77.80737078801913 97.38651212530553\n",
            "Рейтинг: 0.6865033027124832 4.807212114410666 1.7922028352990047\n"
          ]
        },
        {
          "data": {
            "image/png": "[encoded data removed]",
            "text/plain": [
              "<Figure size 432x288 with 1 Axes>"
            ]
          },
          "metadata": {
            "needs_background": "light"
          },
          "output_type": "display_data"
        }
      ],
      "source": [
        "#  расчет расстояний\n",
        "import random\n",
        "import matplotlib.pyplot as plt\n",
        "dist_1 = random.random() * 3\n",
        "print('Расстояния:', dist_1)\n",
        "dist_2 = random.random() * 3\n",
        "print(dist_2)\n",
        "dist_3 = random.random() * 3\n",
        "print(dist_3)\n",
        "\n",
        "# Аттрибуты школ\n",
        "workload_1, workload_2, workload_3 = (random.random() * (101 - 41) + 41), (random.random() * (101 - 41) + 41), (random.random() * (101 - 41) + 41)\n",
        "print('Заполненность:', workload_1, workload_2, workload_3)\n",
        "feedback_1, feedback_2, feedback_3 = random.random() * 6, random.random() * 6, random.random() * 6\n",
        "print('Рейтинг:', feedback_1, feedback_2, feedback_3)\n",
        "\n",
        "\n",
        "dist = [dist_1, dist_2, dist_3]\n",
        "sch = ['305', '127', '315']\n",
        "occ= [100 - workload_1, 100-workload_2, 100-workload_3]\n",
        "rate = [feedback_1, feedback_2, feedback_3]\n",
        "\n",
        "plt.bar(sch, dist, color = 'green', label='Расстояние до школы', alpha=0.5)\n",
        "plt.bar(sch, occ, color = 'orange', label='Наличие свободных мест', alpha=0.5)\n",
        "plt.bar(sch, rate, color = 'yellow', label='Рейтинг', alpha=0.5)\n",
        "plt.xlabel('Номера школ')\n",
        "plt.legend()\n",
        "plt.show()"
      ]
    },
    {
      "cell_type": "code",
      "execution_count": null,
      "metadata": {
        "colab": {
          "referenced_widgets": [
            "dc9e08e4059143ed85a0faf76ed16fe9",
            "3bad450ba4684170b4f085866eeca039",
            "aec86b463fa04bfb8d63ec59e6106066"
          ]
        },
        "id": "xPTRELa0XitJ",
        "outputId": "880abedb-03c3-4f07-810e-80594e7a1186"
      },
      "outputs": [
        {
          "name": "stdout",
          "output_type": "stream",
          "text": [
            "Оцените приоритетность дальности школы от 0 до 10:\n"
          ]
        },
        {
          "data": {
            "application/vnd.jupyter.widget-view+json": {
              "model_id": "dc9e08e4059143ed85a0faf76ed16fe9",
              "version_major": 2,
              "version_minor": 0
            },
            "text/plain": [
              "IntSlider(value=0, max=10)"
            ]
          },
          "metadata": {},
          "output_type": "display_data"
        },
        {
          "name": "stdout",
          "output_type": "stream",
          "text": [
            "Оцените приоритетность заполненности школы от 0 до 10:\n"
          ]
        },
        {
          "data": {
            "application/vnd.jupyter.widget-view+json": {
              "model_id": "3bad450ba4684170b4f085866eeca039",
              "version_major": 2,
              "version_minor": 0
            },
            "text/plain": [
              "IntSlider(value=0, max=10)"
            ]
          },
          "metadata": {},
          "output_type": "display_data"
        },
        {
          "name": "stdout",
          "output_type": "stream",
          "text": [
            "Оцените приоритетность рейтинга школы от 0 до 10:\n"
          ]
        },
        {
          "data": {
            "application/vnd.jupyter.widget-view+json": {
              "model_id": "aec86b463fa04bfb8d63ec59e6106066",
              "version_major": 2,
              "version_minor": 0
            },
            "text/plain": [
              "IntSlider(value=0, max=10)"
            ]
          },
          "metadata": {},
          "output_type": "display_data"
        }
      ],
      "source": [
        "import ipywidgets as widgets\n",
        "from IPython.display import display\n",
        "\n",
        "# важность\n",
        "print('Оцените приоритетность дальности школы от 0 до 10:')\n",
        "slider1 = widgets.IntSlider(\n",
        "    min=0,\n",
        "    max=10,\n",
        "    step=1,\n",
        "    description='',\n",
        "    value=0)\n",
        "display(slider1)\n",
        "\n",
        "print('Оцените приоритетность заполненности школы от 0 до 10:')\n",
        "slider2 = widgets.IntSlider(\n",
        "    min=0,\n",
        "    max=10,\n",
        "    step=1,\n",
        "    description='',\n",
        "    value=0)\n",
        "display(slider2)\n",
        "\n",
        "print('Оцените приоритетность рейтинга школы от 0 до 10:')\n",
        "slider3 = widgets.IntSlider(\n",
        "    min=0,\n",
        "    max=10,\n",
        "    step=1,\n",
        "    description='',\n",
        "    value=0)\n",
        "display(slider3)\n"
      ]
    },
    {
      "cell_type": "code",
      "execution_count": null,
      "metadata": {
        "id": "jxLmp2qjzhhJ",
        "outputId": "7ed4df55-3aff-4026-b1bb-2bf6689ff4eb",
        "scrolled": true
      },
      "outputs": [
        {
          "name": "stdout",
          "output_type": "stream",
          "text": [
            "0.2\n",
            "0.9\n",
            "0.3\n"
          ]
        }
      ],
      "source": [
        "d = slider1.value/10\n",
        "print(d)\n",
        "w = slider2.value/10\n",
        "print(w)\n",
        "f = slider3.value/10\n",
        "print(f)"
      ]
    },
    {
      "cell_type": "code",
      "execution_count": null,
      "metadata": {
        "id": "TuUTEL9bzhhJ"
      },
      "outputs": [],
      "source": [
        "weights = [d, w, f]\n",
        "\n",
        "# параметры школ\n",
        "school_1 = [dist_1, workload_1, 5-feedback_1]\n",
        "school_2 = [dist_2, workload_2, 5-feedback_2]\n",
        "school_3 = [dist_3, workload_3, 5-feedback_3]\n",
        "\n",
        "X = np.array([school_1, school_2, school_3])\n",
        "y = [0, 1, 2]\n",
        "\n",
        "# Нормализация\n",
        "scaler = MinMaxScaler()\n",
        "scaler.fit(X)\n",
        "X_scaled = scaler.transform(X)\n",
        "\n",
        "X_w = X_scaled*np.array(weights).T"
      ]
    },
    {
      "cell_type": "code",
      "execution_count": null,
      "metadata": {
        "id": "-YOSYAB-YDFy",
        "outputId": "8ebbe50b-b37f-47f2-95c3-3970a42c3cbe"
      },
      "outputs": [
        {
          "name": "stdout",
          "output_type": "stream",
          "text": [
            "Лучший результат [[0. 1. 0.]]\n"
          ]
        }
      ],
      "source": [
        "# Обучение классифкатора\n",
        "neigh = KNeighborsClassifier(n_neighbors=1)\n",
        "neigh.fit(X_w, y)\n",
        "\n",
        "print('Лучший результат', neigh.predict_proba([[0,0,0]]))"
      ]
    },
    {
      "cell_type": "code",
      "execution_count": null,
      "metadata": {
        "id": "cAlTu1fvzhhK"
      },
      "outputs": [],
      "source": []
    }
  ],
  "metadata": {
    "colab": {
      "provenance": [],
      "include_colab_link": true
    },
    "kernelspec": {
      "display_name": "Python 3 (ipykernel)",
      "language": "python",
      "name": "python3"
    },
    "language_info": {
      "codemirror_mode": {
        "name": "ipython",
        "version": 3
      },
      "file_extension": ".py",
      "mimetype": "text/x-python",
      "name": "python",
      "nbconvert_exporter": "python",
      "pygments_lexer": "ipython3",
      "version": "3.9.12"
    }
  },
  "nbformat": 4,
  "nbformat_minor": 0
}